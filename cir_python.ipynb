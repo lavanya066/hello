{
  "nbformat": 4,
  "nbformat_minor": 0,
  "metadata": {
    "colab": {
      "name": "cir_python.ipynb",
      "provenance": [],
      "authorship_tag": "ABX9TyNXXUcsAeZNV3YzJxf29P35",
      "include_colab_link": true
    },
    "kernelspec": {
      "name": "python3",
      "display_name": "Python 3"
    },
    "language_info": {
      "name": "python"
    }
  },
  "cells": [
    {
      "cell_type": "markdown",
      "metadata": {
        "id": "view-in-github",
        "colab_type": "text"
      },
      "source": [
        "<a href=\"https://colab.research.google.com/github/lavanya066/hello/blob/main/cir_python.ipynb\" target=\"_parent\"><img src=\"https://colab.research.google.com/assets/colab-badge.svg\" alt=\"Open In Colab\"/></a>"
      ]
    },
    {
      "cell_type": "code",
      "metadata": {
        "id": "LLUCG3prHyAr"
      },
      "source": [
        ""
      ],
      "execution_count": null,
      "outputs": []
    },
    {
      "cell_type": "markdown",
      "metadata": {
        "id": "D56KsG_7H5cG"
      },
      "source": [
        "#                            **Maximum and minimum k elements in the form of tuple**"
      ]
    },
    {
      "cell_type": "code",
      "metadata": {
        "colab": {
          "base_uri": "https://localhost:8080/"
        },
        "id": "7S2a6m13H51g",
        "outputId": "590abfa2-bd89-4a13-8978-701bde9242db"
      },
      "source": [
        "a=(3,7,1,18,9,4)\n",
        "k=3\n",
        "s=list(a)\n",
        "s.sort()\n",
        "print(s)\n",
        "l=len(s)\n",
        "p=k\n",
        "if(len(s)<2*k):\n",
        "  print(\"cannot happen\")\n",
        "else:\n",
        "  if(len(s)==2*k):\n",
        "    print(\"()\")\n",
        "  else:\n",
        "    while(len(s)!=2*k):\n",
        "      s.remove(s[p])\n",
        "      print(s)\n",
        "      #p+=1\n",
        "    t=tuple(s)\n",
        "    print(t)"
      ],
      "execution_count": null,
      "outputs": [
        {
          "output_type": "stream",
          "text": [
            "[1, 3, 4, 7, 9, 18]\n",
            "()\n"
          ],
          "name": "stdout"
        }
      ]
    },
    {
      "cell_type": "markdown",
      "metadata": {
        "id": "o074kgsDLIe4"
      },
      "source": [
        "# **                   Number and cubes **"
      ]
    },
    {
      "cell_type": "code",
      "metadata": {
        "colab": {
          "base_uri": "https://localhost:8080/"
        },
        "id": "e8ISjq28LSla",
        "outputId": "301f1701-10de-44fe-c574-4a88d0ee30cb"
      },
      "source": [
        "s=[1,2,3,90]\n",
        "a=[]\n",
        "for i in range(len(s)):\n",
        "  a.append((s[i],s[i]**3))\n",
        "print(a)\n"
      ],
      "execution_count": null,
      "outputs": [
        {
          "output_type": "stream",
          "text": [
            "[(1, 1), (2, 8), (3, 27), (90, 729000)]\n"
          ],
          "name": "stdout"
        }
      ]
    },
    {
      "cell_type": "markdown",
      "metadata": {
        "id": "lbJefPDLM9zN"
      },
      "source": [
        "#       **Tuples having k digit elements **"
      ]
    },
    {
      "cell_type": "code",
      "metadata": {
        "colab": {
          "base_uri": "https://localhost:8080/"
        },
        "id": "pWaWVZMINKga",
        "outputId": "fb47e02b-3f9d-4640-b656-5d83a89e5c7c"
      },
      "source": [
        "a=[(123,),(56,34),(89,99,1256),(1,33)]\n",
        "k=2\n",
        "l=len(a)\n",
        "i=0\n",
        "q=0\n",
        "while(i<l):\n",
        "  print(l)\n",
        "  m=str(max(a[q]))\n",
        "  n=str(min(a[q]))\n",
        "  if(len(m)!=k or len(n)!=k):\n",
        "    a.remove(a[q])\n",
        "  else:\n",
        "    q+=1\n",
        "  i+=1\n",
        "print(a)\n"
      ],
      "execution_count": null,
      "outputs": [
        {
          "output_type": "stream",
          "text": [
            "4\n",
            "4\n",
            "4\n",
            "4\n",
            "[(56, 34)]\n"
          ],
          "name": "stdout"
        }
      ]
    },
    {
      "cell_type": "markdown",
      "metadata": {
        "id": "PNqUGAbIR8-G"
      },
      "source": [
        "# **sort the elements based on max value of tuple**"
      ]
    },
    {
      "cell_type": "code",
      "metadata": {
        "colab": {
          "base_uri": "https://localhost:8080/"
        },
        "id": "f1l9v4wJSH17",
        "outputId": "a0f3de42-c1e8-40cb-9441-9b75b0114cf5"
      },
      "source": [
        "s=[(123,88),(45,90),(23,44),(88,21),(2,1)]\n",
        "for i in range(1,len(s)):\n",
        "  a=s[i]\n",
        "  temp=max(s[i])\n",
        "  pos=i\n",
        "  while(pos-1>=0 and temp<max(s[pos-1])):\n",
        "    s[pos]=s[pos-1]\n",
        "    pos-=1\n",
        "    #print(s)\n",
        "  s[pos]=a\n",
        "print(s)"
      ],
      "execution_count": null,
      "outputs": [
        {
          "output_type": "stream",
          "text": [
            "[(2, 1), (23, 44), (88, 21), (45, 90), (123, 88)]\n"
          ],
          "name": "stdout"
        }
      ]
    },
    {
      "cell_type": "markdown",
      "metadata": {
        "id": "hxKW_nMiovI3"
      },
      "source": [
        "finding all the subarray"
      ]
    },
    {
      "cell_type": "code",
      "metadata": {
        "colab": {
          "base_uri": "https://localhost:8080/"
        },
        "id": "2HxK7-JKoyXy",
        "outputId": "c7b48113-d2c7-4482-b7b7-23d04553ceed"
      },
      "source": [
        "s=[1,3,4,5,6,7,8]\n",
        "p=[]\n",
        "q=[]\n",
        "for i in range(len(s)):\n",
        "  \n",
        "  for j in range(i+1,len(s)):\n",
        "    q.append(s[i:j])\n",
        "    \n",
        "print(q)\n",
        "\n"
      ],
      "execution_count": 52,
      "outputs": [
        {
          "output_type": "stream",
          "text": [
            "[[1], [1, 3], [1, 3, 4], [1, 3, 4, 5], [1, 3, 4, 5, 6], [1, 3, 4, 5, 6, 7], [3], [3, 4], [3, 4, 5], [3, 4, 5, 6], [3, 4, 5, 6, 7], [4], [4, 5], [4, 5, 6], [4, 5, 6, 7], [5], [5, 6], [5, 6, 7], [6], [6, 7], [7]]\n"
          ],
          "name": "stdout"
        }
      ]
    },
    {
      "cell_type": "markdown",
      "metadata": {
        "id": "esb5NlkbuAzt"
      },
      "source": [
        "# **copied program of 0 sum subarray**"
      ]
    },
    {
      "cell_type": "code",
      "metadata": {
        "colab": {
          "base_uri": "https://localhost:8080/"
        },
        "id": "EWMbvS5cId1F",
        "outputId": "29d5b795-7099-4d13-f560-911a59675de8"
      },
      "source": [
        "# Python3 program to print all subarrays\n",
        "# in the array which has sum 0\n",
        " \n",
        "# Function to get all subarrays\n",
        "# in the array which has sum 0\n",
        "def findSubArrays(arr,n):\n",
        " \n",
        "    # create a python dict\n",
        "    hashMap = {}\n",
        "     \n",
        "    # create a python list\n",
        "    # equivalent to ArrayList\n",
        "    out = []\n",
        "     \n",
        "    # tracker for sum of elements\n",
        "    sum1 = 0\n",
        "    for i in range(n):\n",
        "         \n",
        "        # increment sum by element of array\n",
        "        sum1 += arr[i]\n",
        "         \n",
        "        # if sum is 0, we found a subarray starting\n",
        "        # from index 0 and ending at index i\n",
        "        if sum1 == 0:\n",
        "            out.append((0, i))\n",
        "        al = []\n",
        "         \n",
        "        # If sum already exists in the map\n",
        "        # there exists at-least one subarray\n",
        "        # ending at index i with 0 sum\n",
        "        if sum1 in hashMap:\n",
        "             \n",
        "            # map[sum] stores starting index\n",
        "            # of all subarrays\n",
        "            al = hashMap.get(sum1)\n",
        "            for it in range(len(al)):\n",
        "                out.append((al[it] + 1, i))\n",
        "        al.append(i)\n",
        "        hashMap[sum1] = al\n",
        "    return out\n",
        " \n",
        "# Utility function to print\n",
        "# all subarrays with sum 0\n",
        "def printOutput(output):\n",
        "    for i in output:\n",
        "        print (\"Subarray found from Index \" +\n",
        "                str(i[0]) + \" to \" + str(i[1]))\n",
        " \n",
        "# Driver Code\n",
        "if __name__ == '__main__':\n",
        "    arr = [6, 3, -1, -3, 4, -2,\n",
        "              2, 4, 6, -12, -7]\n",
        "    n = len(arr)\n",
        "    out = findSubArrays(arr, n)\n",
        "     \n",
        "    # if we did not find any subarray with 0 sum,\n",
        "    # then subarray does not exists\n",
        "    if (len(out) == 0):\n",
        "        print (\"No subarray exists\")\n",
        "    else:\n",
        "        printOutput (out)"
      ],
      "execution_count": 53,
      "outputs": [
        {
          "output_type": "stream",
          "text": [
            "Subarray found from Index 2 to 4\n",
            "Subarray found from Index 2 to 6\n",
            "Subarray found from Index 5 to 6\n",
            "Subarray found from Index 6 to 9\n",
            "Subarray found from Index 0 to 10\n"
          ],
          "name": "stdout"
        }
      ]
    },
    {
      "cell_type": "code",
      "metadata": {
        "id": "j5WdwNn9dm8J"
      },
      "source": [
        ""
      ],
      "execution_count": null,
      "outputs": []
    },
    {
      "cell_type": "markdown",
      "metadata": {
        "id": "HtCuLw-20Lba"
      },
      "source": [
        "# **find the max length of 0 sum subarray**"
      ]
    },
    {
      "cell_type": "code",
      "metadata": {
        "colab": {
          "base_uri": "https://localhost:8080/"
        },
        "id": "HFKTtc5n0SJf",
        "outputId": "afa33928-ad40-4c9f-cd02-fe7ca835e078"
      },
      "source": [
        "a = [6, 3, -1, -3, 4, -2, 2,4, 6, -12, -7]\n",
        "s=0\n",
        "h={}\n",
        "l=0\n",
        "p=[]\n",
        "for i in range(len(a)):\n",
        "  s+=a[i]\n",
        "  if(s==0):\n",
        "    l=max(l,i+1)\n",
        "    p.append(a[:i+1])\n",
        "  elif( s in h):\n",
        "    l=max(l,i-h[s])\n",
        "    p.append(a[h[s]+1:i+1])\n",
        "  elif(s not in h):\n",
        "    h[s]=i\n",
        "print(p)\n",
        "print(l)\n"
      ],
      "execution_count": 9,
      "outputs": [
        {
          "output_type": "stream",
          "text": [
            "[[-1, -3, 4], [-1, -3, 4, -2, 2], [2, 4, 6, -12], [6, 3, -1, -3, 4, -2, 2, 4, 6, -12, -7]]\n",
            "11\n"
          ],
          "name": "stdout"
        }
      ]
    }
  ]
}