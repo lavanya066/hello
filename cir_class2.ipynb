{
  "nbformat": 4,
  "nbformat_minor": 0,
  "metadata": {
    "colab": {
      "name": "cir_class2.ipynb",
      "provenance": [],
      "collapsed_sections": [],
      "authorship_tag": "ABX9TyMU5WJliNeIYKbNgySy52qd",
      "include_colab_link": true
    },
    "kernelspec": {
      "name": "python3",
      "display_name": "Python 3"
    },
    "language_info": {
      "name": "python"
    }
  },
  "cells": [
    {
      "cell_type": "markdown",
      "metadata": {
        "id": "view-in-github",
        "colab_type": "text"
      },
      "source": [
        "<a href=\"https://colab.research.google.com/github/lavanya066/hello/blob/main/cir_class2.ipynb\" target=\"_parent\"><img src=\"https://colab.research.google.com/assets/colab-badge.svg\" alt=\"Open In Colab\"/></a>"
      ]
    },
    {
      "cell_type": "code",
      "metadata": {
        "id": "2o6YNAO6rVTw"
      },
      "source": [
        ""
      ],
      "execution_count": null,
      "outputs": []
    },
    {
      "cell_type": "markdown",
      "metadata": {
        "id": "-3ktTcM2rYr_"
      },
      "source": [
        "Given a n x n matrix. The problem is to find all the distinct elements common to all rows of the matrix. The elements can be printed in any order.\n",
        "\n",
        "Examples: \n",
        "\n",
        "Input : mat[][] = {  {2, 1, 4, 3},\n",
        "                     {1, 2, 3, 2},  \n",
        "                     {3, 6, 2, 3},  \n",
        "                     {5, 2, 5, 3}  }\n",
        "Output : 2 3\n",
        "\n",
        "Input : mat[][] = {  {12, 1, 14, 3, 16},\n",
        "                     {14, 2, 1, 3, 35},  \n",
        "                     {14, 1, 14, 3, 11},  \n",
        "                     {14, 25, 3, 2, 1},\n",
        "                     {1, 18, 3, 21, 14}  }\n",
        "Output : 1 3 14"
      ]
    },
    {
      "cell_type": "code",
      "metadata": {
        "colab": {
          "base_uri": "https://localhost:8080/"
        },
        "id": "EbNo62PKrf04",
        "outputId": "6100f03c-b4a9-44cf-9414-b0842ef105a5"
      },
      "source": [
        "mat = [[12, 1, 14, 3, 16],\n",
        "       [14, 2, 1, 3, 35],\n",
        "       [14, 1, 14, 3, 11],\n",
        "       [14, 25, 3, 2, 1],\n",
        "       [1, 18, 3, 21, 14]]\n",
        "h={}\n",
        "x=[]\n",
        "for i in range(len(mat)):\n",
        "  \n",
        "  for j in range(len(mat[0])):\n",
        "    if(mat[i][j] in h and h[mat[i][j]]==i):\n",
        "     \n",
        " \n",
        "      h[mat[i][j]]+=1\n",
        "      \n",
        "      \n",
        "    elif(mat[i][j] not in h):\n",
        "      h[mat[i][j]]=1\n",
        "print(h)\n",
        "for i in h:\n",
        "  if(h[i]==len(mat[0])):\n",
        "    x.append(i)\n",
        "print(x)\n",
        "\n"
      ],
      "execution_count": null,
      "outputs": [
        {
          "output_type": "stream",
          "text": [
            "{12: 1, 1: 5, 14: 5, 3: 5, 16: 1, 2: 1, 35: 1, 11: 1, 25: 1, 18: 1, 21: 1}\n",
            "[1, 14, 3]\n"
          ],
          "name": "stdout"
        }
      ]
    },
    {
      "cell_type": "markdown",
      "metadata": {
        "id": "46jiNlGAvFlH"
      },
      "source": [
        "Given an array arr[] of N positive integers. The task is to find the maximum for every adjacent pair in the array.\n",
        "\n",
        "Examples:\n",
        "\n",
        "Input: 1 2 2 3 4 5\n",
        "Output: 2 2 3 4 5\n",
        "\n",
        "Input: 5 5\n",
        "Output: 5"
      ]
    },
    {
      "cell_type": "code",
      "metadata": {
        "colab": {
          "base_uri": "https://localhost:8080/"
        },
        "id": "ugwtk4e8vJY7",
        "outputId": "5c172534-e5f8-4adc-b712-a3b7d4e8bf91"
      },
      "source": [
        "a=[5,5]\n",
        "p=[]\n",
        "\n",
        "for i in range(1,len(a)):\n",
        "  p.append(max(a[i],a[i-1]))\n",
        "\n",
        "print(p)"
      ],
      "execution_count": null,
      "outputs": [
        {
          "output_type": "stream",
          "text": [
            "[5]\n"
          ],
          "name": "stdout"
        }
      ]
    },
    {
      "cell_type": "markdown",
      "metadata": {
        "id": "K3KHSk_0wzEA"
      },
      "source": [
        "Our task is to print the element which occurs 3 consecutive times in a Python list.\n",
        "\n",
        "Example :\n",
        "\n",
        "Input : [4, 5, 5, 5, 3, 8]\n",
        "\n",
        "Output : 5\n",
        "\n",
        "Input : [1, 1, 1, 64, 23, 64, 22, 22, 22]\n",
        "\n",
        "Output : 1, 22"
      ]
    },
    {
      "cell_type": "code",
      "metadata": {
        "colab": {
          "base_uri": "https://localhost:8080/"
        },
        "id": "SqtVYoAPw5GK",
        "outputId": "dad017c3-3b36-42b3-9a61-b6233e663958"
      },
      "source": [
        "a=[4, 5, 5, 5, 3, 8]\n",
        "p=0\n",
        "x=[]\n",
        "for i in range(len(a)):\n",
        "  \n",
        "  if(p==3):\n",
        "    x.append(a[i-1])\n",
        "      \n",
        "  if(a[i]==a[i-1]):\n",
        "    p+=1\n",
        "  else:\n",
        "    p=1\n",
        "  print(p)\n",
        "if(p==3):\n",
        "  x.append(a[-1])\n",
        "print(x)\n",
        "\n"
      ],
      "execution_count": null,
      "outputs": [
        {
          "output_type": "stream",
          "text": [
            "1\n",
            "1\n",
            "2\n",
            "3\n",
            "1\n",
            "1\n",
            "[5]\n"
          ],
          "name": "stdout"
        }
      ]
    },
    {
      "cell_type": "markdown",
      "metadata": {
        "id": "8ktv_sE9ENdW"
      },
      "source": [
        "# **Largest subarray with the given sum**\n",
        "Given an array arr[] of size n containing integers. The problem is to find the length of the longest sub-array having sum equal to the given value k.\n",
        "Examples: \n",
        " \n",
        "\n",
        "Input : arr[] = { 10, 5, 2, 7, 1, 9 }, \n",
        "            k = 15\n",
        "Output : 4\n",
        "The sub-array is {5, 2, 7, 1}.\n",
        "\n",
        "Input : arr[] = {-5, 8, -14, 2, 4, 12},\n",
        "            k = -5\n",
        "Output : 5"
      ]
    },
    {
      "cell_type": "code",
      "metadata": {
        "colab": {
          "base_uri": "https://localhost:8080/"
        },
        "id": "Fy8E0wyat6UG",
        "outputId": "47bdcde9-261f-4dad-8256-380360480d9d"
      },
      "source": [
        "a=[-5, 8, -14, 2, 4, 12]\n",
        "k=-5\n",
        "h=dict()\n",
        "s=0\n",
        "l=0\n",
        "for i in range(len(a)):\n",
        "  s+=a[i]\n",
        "  if(s==k):\n",
        "    l=max(l,i+1)\n",
        "  if(s-k in h):\n",
        "    l=max(l,i-h[s-k])\n",
        "  else:\n",
        "    h[s]=i\n",
        "print(l)\n",
        "\n"
      ],
      "execution_count": null,
      "outputs": [
        {
          "output_type": "stream",
          "text": [
            "5\n"
          ],
          "name": "stdout"
        }
      ]
    }
  ]
}