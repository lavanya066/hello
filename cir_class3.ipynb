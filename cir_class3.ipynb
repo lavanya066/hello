{
 "cells": [
  {
   "cell_type": "raw",
   "id": "260f675d",
   "metadata": {},
   "source": [
    "# WAP to convert a number entered by user into its corresponding number in words. For e.g. if input is 876 then the output should be “Eight Seven Six”"
   ]
  },
  {
   "cell_type": "code",
   "execution_count": 17,
   "id": "73930c39",
   "metadata": {},
   "outputs": [
    {
     "name": "stdout",
     "output_type": "stream",
     "text": [
      "eight seven six zero \n"
     ]
    }
   ],
   "source": [
    "d={1:\"one\", 2:\"two\" ,3:\"three\" ,4:\"four\",5:\"five\",6:\"six\",7:\"seven\",8:\"eight\",9:\"nine\", 0:\"zero\"}\n",
    "n=8760\n",
    "p=str(n)\n",
    "p=p[::-1]\n",
    "n=int(p)\n",
    "s=\"\"\n",
    "for i in range(len(p)):\n",
    "    x=n%10\n",
    "    s+=d[x]\n",
    "    s+=\" \"\n",
    "    n=n//10\n",
    "\n",
    "print(s)\n",
    "    "
   ]
  },
  {
   "cell_type": "markdown",
   "id": "9e679883",
   "metadata": {},
   "source": [
    "WAP to create a dictionary from a string “python” such that each individual character makes a key and its index value for first occurrence as the corresponding value in dictionary."
   ]
  },
  {
   "cell_type": "code",
   "execution_count": 19,
   "id": "e21a7227",
   "metadata": {},
   "outputs": [
    {
     "name": "stdout",
     "output_type": "stream",
     "text": [
      "{'p': 0, 'y': 1, 't': 2, 'h': 3, 'o': 4, 'n': 5}\n"
     ]
    }
   ],
   "source": [
    "d={}\n",
    "s=\"python\"\n",
    "for i in range(len(s)):\n",
    "    if(s[i] not in d):\n",
    "        d[s[i]]=i\n",
    "print(d)"
   ]
  },
  {
   "cell_type": "code",
   "execution_count": 22,
   "id": "acc2eb0d",
   "metadata": {},
   "outputs": [],
   "source": [
    "d.get('i')"
   ]
  },
  {
   "cell_type": "markdown",
   "id": "fd6c3b05",
   "metadata": {},
   "source": [
    "WAP to store book ID, Book Name and price of 3 books and store the data in dictionary print it."
   ]
  },
  {
   "cell_type": "code",
   "execution_count": 24,
   "id": "64bb767f",
   "metadata": {},
   "outputs": [
    {
     "name": "stdout",
     "output_type": "stream",
     "text": [
      "enter the id1\n",
      "enter the nameer\n",
      "enter the price33\n",
      "enter the id2\n",
      "enter the nameerf\n",
      "enter the price3\n",
      "enter the id3\n",
      "enter the namewr\n",
      "enter the price23\n",
      "enter the id34\n",
      "enter the nameth\n",
      "enter the price6\n",
      "enter the id78\n",
      "enter the namergrf\n",
      "enter the price88\n",
      "er\n"
     ]
    }
   ],
   "source": [
    "d={}\n",
    "s=[]\n",
    "for i in range(5):\n",
    "    id=int(input(\"enter the id\"))\n",
    "    name=input(\"enter the name\")\n",
    "    price=float(input(\"enter the price\"))\n",
    "    x=[name,price]\n",
    "    d[id]=x\n",
    "print(d)"
   ]
  },
  {
   "cell_type": "code",
   "execution_count": 25,
   "id": "014faabd",
   "metadata": {},
   "outputs": [
    {
     "name": "stdout",
     "output_type": "stream",
     "text": [
      "{1: ['er', 33.0], 2: ['erf', 3.0], 3: ['wr', 23.0], 34: ['th', 6.0], 78: ['rgrf', 88.0]}\n"
     ]
    }
   ],
   "source": [
    "print(d)"
   ]
  },
  {
   "cell_type": "markdown",
   "id": "a52a8b31",
   "metadata": {},
   "source": [
    "# Remove all duplicate words from a given sequence.\n",
    "# Input: Python is easy to learn, C Programming is also easy to learn."
   ]
  },
  {
   "cell_type": "code",
   "execution_count": 32,
   "id": "edf8f624",
   "metadata": {},
   "outputs": [
    {
     "name": "stdout",
     "output_type": "stream",
     "text": [
      "['Python', 'is', 'easy', 'to', 'learn', 'C', 'Programming', 'is', 'also', 'easy', 'to', 'learn']\n",
      "{'Python': 1, 'is': 1, 'easy': 1, 'to': 1, 'learn': 1, 'C': 1, 'Programming': 1, 'also': 1}\n"
     ]
    }
   ],
   "source": [
    "d={}\n",
    "s=\"Python is easy to learn C Programming is also easy to learn\"\n",
    "p=s.split(\" \")\n",
    "print(p)\n",
    "for i in range(len(p)):\n",
    "    if(p[i] not in d):\n",
    "        d[p[i]]=1\n",
    "print(d)"
   ]
  },
  {
   "cell_type": "markdown",
   "id": "7147ccfa",
   "metadata": {},
   "source": [
    "Python dictionary to find mirror characters in a string. Given a string and a number N, we need to mirror the characters from N-th position up to the length of the string in the alphabetical order. In mirror operation, we change “a” to “z”, “b” to “y”, and so on.\n",
    "Input: N=3, paradox\n",
    "Output: parzwlc"
   ]
  },
  {
   "cell_type": "code",
   "execution_count": 49,
   "id": "623234a5",
   "metadata": {},
   "outputs": [
    {
     "name": "stdout",
     "output_type": "stream",
     "text": [
      "15\n",
      "0\n",
      "17\n",
      "0\n",
      "3\n",
      "14\n",
      "23\n",
      "kzizwlc\n"
     ]
    }
   ],
   "source": [
    "a=\"paradox\"\n",
    "n=3\n",
    "s=\"\"\n",
    "for i in range(len(a)):\n",
    "    if(1):\n",
    "        p=ord(a[i])-ord('a')\n",
    "        print(p)\n",
    "        x=chr((25-p)+ord('a'))\n",
    "\n",
    "        s+=x\n",
    "    else:\n",
    "        s+=a[i]\n",
    "print(s)\n",
    "    "
   ]
  },
  {
   "cell_type": "code",
   "execution_count": null,
   "id": "acb654ec",
   "metadata": {},
   "outputs": [],
   "source": []
  }
 ],
 "metadata": {
  "kernelspec": {
   "display_name": "Python 3",
   "language": "python",
   "name": "python3"
  },
  "language_info": {
   "codemirror_mode": {
    "name": "ipython",
    "version": 3
   },
   "file_extension": ".py",
   "mimetype": "text/x-python",
   "name": "python",
   "nbconvert_exporter": "python",
   "pygments_lexer": "ipython3",
   "version": "3.8.8"
  }
 },
 "nbformat": 4,
 "nbformat_minor": 5
}
