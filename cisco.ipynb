{
  "nbformat": 4,
  "nbformat_minor": 0,
  "metadata": {
    "colab": {
      "name": "cisco.ipynb",
      "provenance": [],
      "collapsed_sections": [],
      "authorship_tag": "ABX9TyP4FhELarpsCGNFIEOj1Vgw",
      "include_colab_link": true
    },
    "kernelspec": {
      "name": "python3",
      "display_name": "Python 3"
    },
    "language_info": {
      "name": "python"
    }
  },
  "cells": [
    {
      "cell_type": "markdown",
      "metadata": {
        "id": "view-in-github",
        "colab_type": "text"
      },
      "source": [
        "<a href=\"https://colab.research.google.com/github/lavanya066/hello/blob/main/cisco.ipynb\" target=\"_parent\"><img src=\"https://colab.research.google.com/assets/colab-badge.svg\" alt=\"Open In Colab\"/></a>"
      ]
    },
    {
      "cell_type": "code",
      "metadata": {
        "id": "42E28FsrY8yk"
      },
      "source": [
        "'''\n",
        "\n",
        "Welcome to GDB Online.\n",
        "GDB online is an online compiler and debugger tool for C, C++, Python, Java, PHP, Ruby, Perl,\n",
        "C#, VB, Swift, Pascal, Fortran, Haskell, Objective-C, Assembly, HTML, CSS, JS, SQLite, Prolog.\n",
        "Code, Compile, Run and Debug online from anywhere in world.\n",
        "\n",
        "'''\n",
        "\n",
        "inp=2290\n",
        "o=inp\n",
        "l=list(str(o))\n",
        "h=['1','3','5','7','9']\n",
        "c=0\n",
        "c2=0\n",
        "while(1):\n",
        "    p=0\n",
        "    i=0\n",
        "    \n",
        "    while('1'  in l or '3' in l or '5' in l or '7' in l or '9' in l):\n",
        "        \n",
        "        \n",
        "        p=1\n",
        "        if(l[i]=='1' or l[i]=='3'or l[i]=='5'or l[i]=='7' or l[i]=='9'):\n",
        "            c+=1\n",
        "            o+=1\n",
        "            print(o)\n",
        "            l=list(str(o))\n",
        "            i=0\n",
        "        else:\n",
        "            i+=1\n",
        "        \n",
        "    print(c)\n",
        "    if(p==0):\n",
        "        break\n",
        "print(c)\n",
        "l=list(str(inp))\n",
        "print(l)\n",
        "while(1):\n",
        "    p=0\n",
        "    i=0\n",
        "    \n",
        "    while('1'  in l or '3' in l or '5' in l or '7' in l or '9' in l):\n",
        "        \n",
        "        \n",
        "        p=1\n",
        "        if(l[i]=='1' or l[i]=='3'or l[i]=='5'or l[i]=='7' or l[i]=='9'):\n",
        "            c2+=1\n",
        "            inp-=1\n",
        "            print(inp)\n",
        "            l=list(str(inp))\n",
        "            i=0\n",
        "        else:\n",
        "            i+=1\n",
        "        \n",
        "    print(c2)\n",
        "    if(p==0):\n",
        "        break\n",
        "print(min(c,c2))\n",
        "    \n",
        "        \n",
        "        \n",
        "            \n",
        "            \n",
        "        \n",
        "        "
      ],
      "execution_count": null,
      "outputs": []
    },
    {
      "cell_type": "markdown",
      "metadata": {
        "id": "kEZhsXfeN4kl"
      },
      "source": [
        "0/1 knap sack"
      ]
    },
    {
      "cell_type": "code",
      "metadata": {
        "colab": {
          "base_uri": "https://localhost:8080/"
        },
        "id": "BuI-YQM9N7B8",
        "outputId": "b26426d0-b4fb-4fc5-f8c4-eb18dfe22b2b"
      },
      "source": [
        "def knapsack(wt,val,W,n):\n",
        "  if(n==0 or W==0):\n",
        "    return 0\n",
        "  if(W>=wt[n-1]):\n",
        "    return max((val[n-1]+knapsack(wt,val,W-wt[n-1],n-1)),(knapsack(wt,val,W,n-1)))\n",
        "  else:\n",
        "    return (knapsack(wt,val,W,n-1))\n",
        "wt=[1,3,4,5]\n",
        "val=[20,4,5,7]\n",
        "W=7\n",
        "x=knapsack(wt,val,W,4)\n",
        "print(x)"
      ],
      "execution_count": null,
      "outputs": [
        {
          "output_type": "stream",
          "text": [
            "27\n"
          ],
          "name": "stdout"
        }
      ]
    },
    {
      "cell_type": "markdown",
      "metadata": {
        "id": "EDZHh0DytUO3"
      },
      "source": [
        "0/1 knapsack using memozization "
      ]
    },
    {
      "cell_type": "code",
      "metadata": {
        "colab": {
          "base_uri": "https://localhost:8080/"
        },
        "id": "RY6zGpDqtYzA",
        "outputId": "ccca4c3f-45fd-41ed-eb40-de58029555eb"
      },
      "source": [
        "def knapsack(wt,val,W,n,p):\n",
        "  if(n==0 or W==0):\n",
        "    return 0\n",
        "  if(p[n][W]!=-1):\n",
        "    return p[n][W]\n",
        "  if(W>=wt[n-1]):\n",
        "    p[n][W]=max((val[n-1]+knapsack(wt,val,W-wt[n-1],n-1,p)),(knapsack(wt,val,W,n-1,p)))\n",
        "    return p[n][W]\n",
        "  else:\n",
        "    p[n][W]=(knapsack(wt,val,W,n-1,p))\n",
        "    return  p[n][W]\n",
        "wt=[1,2,4,5]\n",
        "val=[9,4,5,65]\n",
        "W=7\n",
        "p=[]\n",
        "for i in range(len(wt)+1):\n",
        "  r=[]\n",
        "  for j in range(W+1):\n",
        "    r.append(-1)\n",
        "  p.append(r)\n",
        "x=knapsack(wt,val,W,len(wt),p)\n",
        "print(x)"
      ],
      "execution_count": null,
      "outputs": [
        {
          "output_type": "stream",
          "text": [
            "74\n"
          ],
          "name": "stdout"
        }
      ]
    },
    {
      "cell_type": "markdown",
      "metadata": {
        "id": "bRdP3ZHiCEt_"
      },
      "source": [
        "subset sum "
      ]
    },
    {
      "cell_type": "code",
      "metadata": {
        "colab": {
          "base_uri": "https://localhost:8080/"
        },
        "id": "Sf0qUIcDCGnj",
        "outputId": "cb0b14ae-ec78-4f5f-c457-78e5c2430008"
      },
      "source": [
        "def subs(arr,sum,n,s):\n",
        "  \n",
        "  if(n==0 and sum !=0):\n",
        "    return 0\n",
        "  if(sum==0):\n",
        "    \n",
        "    return 1\n",
        "  if(arr[n-1]<=sum):\n",
        "    \n",
        "    return max(subs(arr,sum-arr[n-1],n-1,s),subs(arr,sum,n-1,s))\n",
        "  else:\n",
        "    return subs(arr,sum,n-1,s)\n",
        "arr=[2,3,7,5,10,3]\n",
        "sum=11\n",
        "s=subs(arr,sum,len(arr),[])\n",
        "if(s==1):\n",
        "  print (True)\n",
        "else:\n",
        "  print(False)\n",
        "\n"
      ],
      "execution_count": null,
      "outputs": [
        {
          "output_type": "stream",
          "text": [
            "True\n"
          ],
          "name": "stdout"
        }
      ]
    },
    {
      "cell_type": "markdown",
      "metadata": {
        "id": "yYYiBS6zLNEq"
      },
      "source": [
        "subset sum memozization"
      ]
    },
    {
      "cell_type": "code",
      "metadata": {
        "colab": {
          "base_uri": "https://localhost:8080/"
        },
        "id": "eB_aMnm5LQFy",
        "outputId": "0beb711d-a30b-47a2-be5e-e53880a45c8f"
      },
      "source": [
        "def subs(arr,sum,n,s):\n",
        "  \n",
        "  if(n==0 and sum !=0):\n",
        "    return 0\n",
        "  if(sum==0):\n",
        "    \n",
        "    return 1\n",
        "  if(s[n][sum]!=-1):\n",
        "    print(s)\n",
        "    return s[n][sum]\n",
        "  if(arr[n-1]<=sum):\n",
        "    \n",
        "    s[n][sum]=max(subs(arr,sum-arr[n-1],n-1,s),subs(arr,sum,n-1,s))\n",
        "    return s[n][sum]\n",
        "  else:\n",
        "    s[n][sum]=subs(arr,sum,n-1,s)\n",
        "    return s[n][sum]\n",
        "arr=[2,3,7,8,10]\n",
        "sum=11\n",
        "p=[]\n",
        "for i in range(len(arr)+1):\n",
        "  r=[]\n",
        "  for j in range(sum+1):\n",
        "   r.append(-1)\n",
        "  p.append(r)\n",
        "\n",
        "s=subs(arr,sum,len(arr),p)\n",
        "if(s==1):\n",
        "  print (True)\n",
        "else:\n",
        "  print(False)"
      ],
      "execution_count": null,
      "outputs": [
        {
          "output_type": "stream",
          "text": [
            "[[-1, -1, -1, -1, -1, -1, -1, -1, -1, -1, -1, -1], [-1, 0, -1, 0, -1, -1, -1, -1, -1, -1, -1, -1], [-1, 0, -1, 1, -1, -1, -1, -1, -1, -1, -1, -1], [-1, 0, -1, 1, -1, -1, -1, -1, -1, -1, -1, -1], [-1, 0, -1, -1, -1, -1, -1, -1, -1, -1, -1, -1], [-1, -1, -1, -1, -1, -1, -1, -1, -1, -1, -1, -1]]\n",
            "True\n"
          ],
          "name": "stdout"
        }
      ]
    },
    {
      "cell_type": "markdown",
      "metadata": {
        "id": "w_B82Bl4poUP"
      },
      "source": [
        "count the number of subset"
      ]
    },
    {
      "cell_type": "code",
      "metadata": {
        "colab": {
          "base_uri": "https://localhost:8080/"
        },
        "id": "2B3WarY_pryG",
        "outputId": "1e010fdb-bdbe-4387-8141-d6dbd1fda810"
      },
      "source": [
        "def subs(arr,sum,n,s,c):\n",
        "  \n",
        "  if(n==0 and sum !=0):\n",
        "    return c\n",
        "  if( n==0):\n",
        "    if(sum==0):\n",
        "      c=c+1\n",
        "      return c \n",
        "    \n",
        "    \n",
        "  \n",
        "  c=subs(arr,sum-arr[n-1],n-1,s,c)\n",
        "  c=subs(arr,sum,n-1,s,c)\n",
        "   \n",
        "  return c\n",
        "  \n",
        "arr=[2,3,7,8,6,10]\n",
        "sum=11\n",
        "p=[]\n",
        "for i in range(len(arr)+1):\n",
        "  r=[]\n",
        "  for j in range(sum+1):\n",
        "   r.append(-1)\n",
        "  p.append(r)\n",
        "\n",
        "s=subs(arr,sum,len(arr),p,0)\n",
        "print(s)\n",
        "if(s==1):\n",
        "  print (True)\n",
        "else:\n",
        "  print(False)"
      ],
      "execution_count": null,
      "outputs": [
        {
          "output_type": "stream",
          "text": [
            "3\n"
          ],
          "name": "stdout"
        }
      ]
    },
    {
      "cell_type": "markdown",
      "metadata": {
        "id": "Er1jYhB1kzP2"
      },
      "source": [
        "Maximum subset sum difference "
      ]
    },
    {
      "cell_type": "code",
      "metadata": {
        "colab": {
          "base_uri": "https://localhost:8080/"
        },
        "id": "7ObSqsRck4E0",
        "outputId": "7af2a018-ead0-4a18-e526-a0a53d5dd9a4"
      },
      "source": [
        "def dif(arr,sum,n,m):\n",
        "  if(sum<0):\n",
        "    return m\n",
        "  if(n==0):\n",
        "    return sum\n",
        "  if(arr[n-1]<=sum):\n",
        "    return min(dif(arr,sum-2*arr[n-1],n-1,m),dif(arr,sum,n-1,m))# difference in sum is s2-s1, s2 is total sum -s1 therefore we need to minimise total sum-2*s1\n",
        "  if(arr[n-1]>sum):\n",
        "    return dif(arr,sum,n-1,m)\n",
        "arr=[1,2,7]\n",
        "sum1=sum(arr)\n",
        "p=dif(arr,sum1,len(arr),max(arr))\n",
        "print(p)\n",
        "  \n"
      ],
      "execution_count": null,
      "outputs": [
        {
          "output_type": "stream",
          "text": [
            "4\n"
          ],
          "name": "stdout"
        }
      ]
    },
    {
      "cell_type": "markdown",
      "metadata": {
        "id": "u0eVTaAdnrxc"
      },
      "source": [
        "Maximum subset sum difference with Memozization "
      ]
    },
    {
      "cell_type": "code",
      "metadata": {
        "colab": {
          "base_uri": "https://localhost:8080/"
        },
        "id": "9qoLRj4jn18t",
        "outputId": "46022da4-4e93-42b3-ad96-63fcad165135"
      },
      "source": [
        "def dif(arr,sum,n,m,x):\n",
        "  if(sum<0):\n",
        "    return m\n",
        "  if(n==0):\n",
        "    return sum\n",
        "  if(x[n][sum]!=-1):\n",
        "    return x[n][sum]\n",
        "  if(arr[n-1]<=sum):\n",
        "    x[n][sum]=min(dif(arr,sum-2*arr[n-1],n-1,m,x),dif(arr,sum,n-1,m,x))# difference in sum is s2-s1, s2 is total sum -s1 therefore we need to minimise total sum-2*s1\n",
        "    return x[n][sum]\n",
        "  if(arr[n-1]>sum):\n",
        "    x[n][sum]=dif(arr,sum,n-1,m,x)\n",
        "    return x[n][sum]\n",
        "arr=[1,2,7]\n",
        "sum1=sum(arr)\n",
        "x=[]\n",
        "for i in range(len(arr)+1):\n",
        "  o=[]\n",
        "  for j in range(sum1+1):\n",
        "    o.append(-1)\n",
        "  x.append(o)\n",
        "\n",
        "p=dif(arr,sum1,len(arr),max(arr),x)\n",
        "print(p)"
      ],
      "execution_count": null,
      "outputs": [
        {
          "output_type": "stream",
          "text": [
            "4\n"
          ],
          "name": "stdout"
        }
      ]
    },
    {
      "cell_type": "markdown",
      "metadata": {
        "id": "NI6BrUB1cv-k"
      },
      "source": [
        "subset sum with the given difference\n",
        "\n",
        "\n",
        "```\n",
        "# This is formatted as code\n",
        "arr[]=1,1,2,3\n",
        "dif=1\n",
        "output=3\n",
        "```\n",
        "\n"
      ]
    },
    {
      "cell_type": "code",
      "metadata": {
        "colab": {
          "base_uri": "https://localhost:8080/"
        },
        "id": "sn6wVW8Icz-h",
        "outputId": "4833c84d-e3f7-48c7-802c-e280845e6925"
      },
      "source": [
        "def subdif(arr,n,sum,c,dif):\n",
        "  if(sum<0):\n",
        "    return 0\n",
        "  if(n==0 and sum!=dif):\n",
        "    return 0\n",
        "  if(sum==dif):\n",
        "    return c+1# totsum-2*s1==dif\n",
        "  if(sum>=arr[n-1]):\n",
        "    return subdif(arr,n-1,sum-2*arr[n-1],c,dif)+subdif(arr,n-1,sum,c,dif)\n",
        "  if(arr[n-1]>sum):\n",
        "    return subdif(arr,n-1,sum,c,dif)\n",
        "arr=[3,7,2,5,6]\n",
        "dif=1\n",
        "s=subdif(arr,len(arr),sum(arr),0,dif)\n",
        "print(s)"
      ],
      "execution_count": null,
      "outputs": [
        {
          "output_type": "stream",
          "text": [
            "2\n"
          ],
          "name": "stdout"
        }
      ]
    },
    {
      "cell_type": "markdown",
      "metadata": {
        "id": "0MPGehveRR1W"
      },
      "source": [
        "Cutting a Rod | DP-13\n",
        "Difficulty Level : Medium\n",
        "Last Updated : 27 May, 2021\n",
        " \n",
        "Given a rod of length n inches and an array of prices that includes prices of all pieces of size smaller than n. Determine the maximum value obtainable by cutting up the rod and selling the pieces. For example, if the length of the rod is 8 and the values of different pieces are given as the following, then the maximum obtainable value is 22 (by cutting in two pieces of lengths 2 and 6) \n",
        "\n",
        "length   | 1   2   3   4   5   6   7   8  \n",
        "--------------------------------------------\n",
        "price    | 1   5   8   9  10  17  17  20\n",
        "And if the prices are as following, then the maximum obtainable value is 24 (by cutting in eight pieces of length 1) \n",
        "\n",
        "length   | 1   2   3   4   5   6   7   8  \n",
        "--------------------------------------------\n",
        "price    | 3   5   8   9  10  17  17  20"
      ]
    },
    {
      "cell_type": "code",
      "metadata": {
        "colab": {
          "base_uri": "https://localhost:8080/"
        },
        "id": "tXIXvtycRcjh",
        "outputId": "5081b787-1122-4733-e4f2-213363bd8eb3"
      },
      "source": [
        "def rod(price,length,n,L):\n",
        "  if(L<0):\n",
        "    return 0\n",
        "  if(n==0):\n",
        "    return 0\n",
        "  if(L>=length[n-1]):\n",
        "    return max(price[n-1]+rod(price,length,n,L-length[n-1]),rod(price,length,n-1,L))\n",
        "  if(L<length[n-1]):\n",
        "    return rod(price,length,n-1,L)\n",
        "price=[3,5,8,9,10,17,17,20]\n",
        "length=[]\n",
        "for i in range(len(price)):\n",
        "  length.append(i+1)\n",
        "x=rod(price,length,len(price),len(price))\n",
        "print(x)"
      ],
      "execution_count": null,
      "outputs": [
        {
          "output_type": "stream",
          "text": [
            "24\n"
          ],
          "name": "stdout"
        }
      ]
    },
    {
      "cell_type": "markdown",
      "metadata": {
        "id": "d2WamozzcgYi"
      },
      "source": [
        "Coin Change | DP-7\n",
        "Difficulty Level : Hard\n",
        "Last Updated : 05 Jul, 2021\n",
        "\n",
        "\n",
        "```\n",
        "# This is formatted as code\n",
        "Given a value N, if we want to make change for N cents, and we have infinite supply of each of S = { S1, S2, .. , Sm} valued coins, how many ways can we make the change? The order of coins doesn’t matter.\n",
        "For example, for N = 4 and S = {1,2,3}, there are four solutions: {1,1,1,1},{1,1,2},{2,2},{1,3}. So output should be 4. For N = 10 and S = {2, 5, 3, 6}, there are five solutions: {2,2,2,2,2}, {2,2,3,3}, {2,2,6}, {2,3,5} and {5,5}. So the output should be 5.\n",
        "```\n",
        "\n",
        "\n",
        "\n",
        "1.   List item\n",
        "2.   List item\n",
        "\n"
      ]
    },
    {
      "cell_type": "code",
      "metadata": {
        "colab": {
          "base_uri": "https://localhost:8080/"
        },
        "id": "Bl5Ho70kgRmv",
        "outputId": "9cdfeb80-23b1-4dd7-ac46-cd39eb10f5b0"
      },
      "source": [
        "def coin(arr,sum,n,c,p):\n",
        "  if(n==0):\n",
        "    return c\n",
        "  if(sum==0):\n",
        "    return c+1\n",
        "  if(sum<0):\n",
        "    return c\n",
        "  if(p[n][sum]!=-1):\n",
        "    return p[n][sum]\n",
        "  if(sum>=arr[n-1]):\n",
        "    return coin(arr,sum-arr[n-1],n,c,p)+coin(arr,sum,n-1,c,p)\n",
        "  else:\n",
        "    return coin(arr,sum,n-1,c,p)\n",
        "arr=[1,2,5]\n",
        "sum=5\n",
        "p=[]\n",
        "for i in range(len(arr)+1):\n",
        "  o=[]\n",
        "  for j in range(sum+1):\n",
        "    o.append(-1)\n",
        "  p.append(o)\n",
        "x=coin(arr,sum,len(arr),0,p)\n",
        "print(x)\n",
        "\n"
      ],
      "execution_count": null,
      "outputs": [
        {
          "output_type": "stream",
          "text": [
            "4\n"
          ],
          "name": "stdout"
        }
      ]
    },
    {
      "cell_type": "markdown",
      "metadata": {
        "id": "TOFSL5vdnxrf"
      },
      "source": [
        "Equal sum partition \n",
        "Partition problem is to determine whether a given set can be partitioned into two subsets such that the sum of elements in both subsets is the same. \n",
        "\n",
        "Examples: \n",
        "\n",
        "arr[] = {1, 5, 11, 5}\n",
        "Output: true \n",
        "The array can be partitioned as {1, 5, 5} and {11}\n",
        "\n",
        "arr[] = {1, 5, 3}\n",
        "Output: false \n",
        "The array cannot be partitioned into equal sum sets."
      ]
    },
    {
      "cell_type": "code",
      "metadata": {
        "colab": {
          "base_uri": "https://localhost:8080/"
        },
        "id": "oW-IFDs2n-ES",
        "outputId": "51afd2dd-7c3e-4557-d75e-44693c198c3c"
      },
      "source": [
        "def equal(arr,sum1,n):\n",
        "  if(n==0):\n",
        "    return 0\n",
        "  if(sum1<0):\n",
        "    return 0\n",
        "  if(sum1==0):\n",
        "    return 1\n",
        "  if(sum1>=arr[n-1]):\n",
        "    return max(equal(arr,sum1-arr[n-1],n-1),equal(arr,sum1,n-1))\n",
        "  else:\n",
        "    return equal(arr,sum1,n-1)\n",
        "\n",
        "\n",
        "\n",
        "\n",
        "\n",
        "arr=[4,2,8]\n",
        "tot=0\n",
        "for i in range(len(arr)):\n",
        "  tot+=arr[i]\n",
        "\n",
        "\n",
        "if(tot%2!=0):\n",
        "  print(\"false\")\n",
        "else:\n",
        "  p=equal(arr,tot//2,len(arr))\n",
        "  print(p)"
      ],
      "execution_count": null,
      "outputs": [
        {
          "output_type": "stream",
          "text": [
            "0\n"
          ],
          "name": "stdout"
        }
      ]
    },
    {
      "cell_type": "markdown",
      "metadata": {
        "id": "KS2XdzE85OKQ"
      },
      "source": [
        "Find minimum number of coins that make a given value\n",
        "Difficulty Level : Medium\n",
        "Last Updated : 14 May, 2021\n",
        " \n",
        "Given a value V, if we want to make change for V cents, and we have infinite supply of each of C = { C1, C2, .. , Cm} valued coins, what is the minimum number of coins to make the change? If it’s not possible to make change, print -1.\n",
        "\n",
        "Examples:  \n",
        "\n",
        "Input: coins[] = {25, 10, 5}, V = 30\n",
        "Output: Minimum 2 coins required\n",
        "We can use one coin of 25 cents and one of 5 cents \n",
        "\n",
        "Input: coins[] = {9, 6, 5, 1}, V = 11\n",
        "Output: Minimum 2 coins required\n",
        "We can use one coin of 6 cents and 1 coin of 5 cents\n",
        "\n",
        "> Indented block\n",
        "\n",
        "1.   List item\n",
        "2.   List item\n",
        "\n",
        "\n",
        "\n"
      ]
    },
    {
      "cell_type": "code",
      "metadata": {
        "colab": {
          "base_uri": "https://localhost:8080/"
        },
        "id": "YZzOyw_15VyA",
        "outputId": "fbc823c9-df69-4f5c-c9eb-c91968fc13c6"
      },
      "source": [
        "def mincoins(coin,sum,n,c,p):\n",
        "            if(n==0):\n",
        "                if(sum==0):\n",
        "                    return c\n",
        "                else:\n",
        "                    return 1000000\n",
        "            if(sum==0):\n",
        "                return c\n",
        "            if(p[n][sum]!=-1):\n",
        "                p[n][sum]\n",
        "            if(coin[n-1]<=sum):\n",
        "                p[n][sum]=min(mincoins(coin,sum-coin[n-1],n,c+1,p),mincoins(coin,sum,n-1,c,p))\n",
        "                return p[n][sum]\n",
        "            else:\n",
        "                p[n][sum]=mincoins(coin,sum,n-1,c,p)\n",
        "                return p[n][sum]\n",
        "p=[]\n",
        "for i in range(len(coin)+1):\n",
        "    o=[]\n",
        "    for j in range(sum+1):\n",
        "        o.append(-1)\n",
        "    p.append(o)\n",
        "x=mincoins(coin,sum,len(coin),0,p)\n",
        "print(x)\n"
      ],
      "execution_count": null,
      "outputs": [
        {
          "output_type": "stream",
          "text": [
            "2\n"
          ],
          "name": "stdout"
        }
      ]
    },
    {
      "cell_type": "code",
      "metadata": {
        "colab": {
          "base_uri": "https://localhost:8080/"
        },
        "id": "53uihcCk2Y2l",
        "outputId": "1b112b7c-3482-4ede-9756-3f1929f40552"
      },
      "source": [
        "import sys\n",
        "def mincoins(coins,sum,n,p):\n",
        "  c=0\n",
        "  for i in range(len(coins)+1):\n",
        "    for j in range(sum+1):\n",
        "      if(i==0):\n",
        "        p[i][j]=sys.maxsize\n",
        "      elif(j==0):\n",
        "        p[i][j]=0\n",
        "      elif(i==1 and j%coins[i-1]==0):\n",
        "        p[i][j]=j//coins[i-1]\n",
        "      elif(i==1 and j%coins[i-1]!=0):\n",
        "        p[i][j]=sys.maxsize\n",
        "      elif(j>=coins[i-1]):\n",
        "        p[i][j]=min(1+p[i][j-coins[i-1]],p[i-1][j])\n",
        "      else:\n",
        "        p[i][j]=p[i-1][j]\n",
        "\n",
        "  return p[len(coins)][sum]\n",
        "coin=[9, 6, 5, 1]\n",
        "sum=11\n",
        "p=[]\n",
        "for i in range(len(coin)+1):\n",
        "  o=[]\n",
        "  for j in range(sum+1):\n",
        "    o.append(-1)\n",
        "  p.append(o)\n",
        "x=mincoins(coin,sum,0,p)\n",
        "print(x)\n",
        "\n"
      ],
      "execution_count": null,
      "outputs": [
        {
          "output_type": "stream",
          "text": [
            "2\n"
          ],
          "name": "stdout"
        }
      ]
    },
    {
      "cell_type": "markdown",
      "metadata": {
        "id": "aUnoCcfNk1yS"
      },
      "source": [
        "Longest Common Subsequence | DP-4\n",
        "Difficulty Level : Medium\n",
        "Last Updated : 30 Sep, 2019\n",
        "We have discussed Overlapping Subproblems and Optimal Substructure properties in Set 1 and Set 2 respectively. We also discussed one example problem in Set 3. Let us discuss Longest Common Subsequence (LCS) problem as one more example problem that can be solved using Dynamic Programming.\n",
        "\n",
        "LCS Problem Statement: Given two sequences, find the length of longest subsequence present in both of them. A subsequence is a sequence that appears in the same relative order, but not necessarily contiguous. For example, “abc”, “abg”, “bdf”, “aeg”, ‘”acefg”, .. etc are subsequences of “abcdefg”.\n",
        "\n",
        "In order to find out the complexity of brute force approach, we need to first know the number of possible different subsequences of a string with length n, i.e., find the number of subsequences with lengths ranging from 1,2,..n-1. Recall from theory of permutation and combination that number of combinations with 1 element are nC1. Number of combinations with 2 elements are nC2 and so forth and so on. We know that nC0 + nC1 + nC2 + … nCn = 2n. So a string of length n has 2n-1 different possible subsequences since we do not consider the subsequence with length 0. This implies that the time complexity of the brute force approach will be O(n * 2n). Note that it takes O(n) time to check if a subsequence is common to both the strings. This time complexity can be improved using dynamic programming.\n",
        "\n",
        "It is a classic computer science problem, the basis of diff (a file comparison program that outputs the differences between two files), and has applications in bioinformatics.\n",
        "\n",
        "Examples:\n",
        "LCS for input Sequences “ABCDGH” and “AEDFHR” is “ADH” of length 3.\n",
        "LCS for input Sequences “AGGTAB” and “GXTXAYB” is “GTAB” of length 4.\n",
        "\n",
        "```\n",
        "# This is formatted as code\n",
        "\n",
        "> Indented block\n",
        "\n",
        "\n",
        "```\n",
        "\n"
      ]
    },
    {
      "cell_type": "code",
      "metadata": {
        "colab": {
          "base_uri": "https://localhost:8080/"
        },
        "id": "NbL8aowOk9_a",
        "outputId": "9f40c2d1-5586-4b1d-8157-753639d60c48"
      },
      "source": [
        "def longsub(x,y,m,n,p):\n",
        "  if(m==0 or n==0):\n",
        "    return 0\n",
        "  if(p[m][n]!=-1):\n",
        "    return p[m][n]\n",
        "  if (x[m-1]==y[n-1]):\n",
        "    return 1+longsub(x,y,m-1,n-1,p)\n",
        "  else:\n",
        "    return max(longsub(x,y,m-1,n,p),longsub(x,y,m,n-1,p))\n",
        "x=\"AGGTAB\"\n",
        "y=\"GXTXAYB\"\n",
        "p=[]\n",
        "for i in range(len(x)+1):\n",
        "  u=[]\n",
        "  for j in range(len(y)+1):\n",
        "    u.append(-1)\n",
        "  p.append(u)\n",
        "o=longsub(x,y,len(x),len(y),p)\n",
        "print(o)"
      ],
      "execution_count": null,
      "outputs": [
        {
          "output_type": "stream",
          "text": [
            "4\n"
          ],
          "name": "stdout"
        }
      ]
    },
    {
      "cell_type": "markdown",
      "metadata": {
        "id": "K_lP4JbFw5wm"
      },
      "source": [
        "Tabulation approach "
      ]
    },
    {
      "cell_type": "code",
      "metadata": {
        "colab": {
          "base_uri": "https://localhost:8080/"
        },
        "id": "nGLDFaD6w-Be",
        "outputId": "a930b323-92dd-4ca9-be94-0a7c2bcedf16"
      },
      "source": [
        "def longsub(x,y,m,n,p):\n",
        "  r=\"\"\n",
        "  for i in range(m+1):\n",
        "    for j in range(n+1):\n",
        "      if(i==0 or j==0):\n",
        "        p[i][j]=0\n",
        "      elif(x[i-1]==y[j-1]):\n",
        "        p[i][j]=1+p[i-1][j-1]\n",
        "      else:\n",
        "        p[i][j]=max(p[i][j-1],p[i-1][j])\n",
        " \n",
        "  while(m>0 and n>0):\n",
        "    \n",
        "    if(x[m-1]==y[n-1]):\n",
        "      r+=x[m-1]\n",
        "      \n",
        "    if(p[m-1][n]>p[m][n-1]):\n",
        "      m=m-1\n",
        "    elif(p[m-1][n]<p[m][n-1]):\n",
        "      n=n-1\n",
        "    else:\n",
        "      m=m-1\n",
        "      n=n-1\n",
        "  \n",
        "  print(r)\n",
        "  return p[len(x)][len(y)]\n",
        "x=\"AGGTAB\"\n",
        "y=\"GXTXAYB\"\n",
        "p=[]\n",
        "for i in range(len(x)+1):\n",
        "  u=[]\n",
        "  for j in range(len(y)+1):\n",
        "    u.append(-1)\n",
        "  p.append(u)\n",
        "o=longsub(x,y,len(x),len(y),p)\n",
        "print(o)\n"
      ],
      "execution_count": null,
      "outputs": [
        {
          "output_type": "stream",
          "text": [
            "BATG\n",
            "4\n"
          ],
          "name": "stdout"
        }
      ]
    },
    {
      "cell_type": "markdown",
      "metadata": {
        "id": "NHQUh17FrM4b"
      },
      "source": [
        "Shortest Common Supersequence\n",
        "Difficulty Level : Medium\n",
        "Last Updated : 12 May, 2021\n",
        "Given two strings str1 and str2, the task is to find the length of the shortest string that has both str1 and str2 as subsequences.\n",
        "\n",
        "Examples : \n",
        "\n",
        "Input:   str1 = \"geek\",  str2 = \"eke\"\n",
        "Output: 5\n",
        "Explanation: \n",
        "String \"geeke\" has both string \"geek\" \n",
        "and \"eke\" as subsequences.\n",
        "\n",
        "Input:   str1 = \"AGGTAB\",  str2 = \"GXTXAYB\"\n",
        "Output:  9\n",
        "Explanation: \n",
        "String \"AGXGTXAYB\" has both string \n",
        "\"AGGTAB\" and \"GXTXAYB\" as subsequences.\n",
        "\n",
        "> `Indented block`\n",
        "\n"
      ]
    },
    {
      "cell_type": "code",
      "metadata": {
        "colab": {
          "base_uri": "https://localhost:8080/"
        },
        "id": "EljnNCLurW-t",
        "outputId": "545a36f8-b8b6-43ca-bdea-bf9e68b4b7f1"
      },
      "source": [
        "def superseq(str1,str2,p):\n",
        "  m=0\n",
        "  for i in range(1,len(str1)+1):\n",
        "    for j in range(1,len(str2)+1):\n",
        "\n",
        "      if(str1[i-1]==str2[j-1]):\n",
        "        p[i][j]=1+p[i-1][j-1]\n",
        "      else:\n",
        "        p[i][j]=max(p[i][j-1],p[i-1][j])\n",
        "  return p[len(str1)][len(str2)]\n",
        "str1 = \"AGGTAB\"\n",
        "str2 = \"GXTXAYB\"\n",
        "p=[]\n",
        "for i in range(len(str1)+1):\n",
        "  o=[]\n",
        "  for j in range(len(str2)+1):\n",
        "    o.append(0)\n",
        "  p.append(o)\n",
        "l=superseq(str1,str2,p)\n",
        "v=len(str1)+len(str2)-l\n",
        "print(v)"
      ],
      "execution_count": null,
      "outputs": [
        {
          "output_type": "stream",
          "text": [
            "9\n"
          ],
          "name": "stdout"
        }
      ]
    },
    {
      "cell_type": "markdown",
      "metadata": {
        "id": "16ooqn02gRi1"
      },
      "source": [
        "Minimum number of deletions and insertions to transform one string into another\n",
        "Difficulty Level : Medium\n",
        "Last Updated : 27 May, 2021\n",
        "### ***Given two strings ‘str1’ and ‘str2’ of size m and n respectively. The task is to remove/delete and insert the minimum number of characters from/in str1 to transform it into str2. It could be possible that the same character needs to be removed/deleted from one point of str1 and inserted to some another point***.\n",
        "\n",
        "Example 1: \n",
        "\n",
        "\n",
        "\n",
        "\n",
        "\n",
        "\n",
        "\n",
        "```\n",
        "Input : \n",
        "str1 = \"heap\", str2 = \"pea\" \n",
        "Output : \n",
        "Minimum Deletion = 2 and\n",
        "Minimum Insertion = 1\n",
        "Explanation:\n",
        "p and h deleted from heap\n",
        "Then, p is inserted at the beginning\n",
        "One thing to note, though p was required yet\n",
        "it was removed/deleted first from its position and\n",
        "then it is inserted to some other position.\n",
        "Thus, p contributes one to the deletion_count\n",
        "and one to the insertion_count.\n",
        "Pictorial Representation of pea\n",
        "\n",
        "\n",
        "\n",
        "```\n",
        "\n",
        "\n",
        "\n",
        "\n",
        "\n",
        "```\n",
        "Example 2: \n",
        "\n",
        "Input : \n",
        "str1 = \"geeksforgeeks\", str2 = \"geeks\"\n",
        "Output : \n",
        "Minimum Deletion = 8\n",
        "Minimum Insertion = 0\n",
        "\n",
        "```\n",
        "\n",
        "\n",
        "\n",
        "> Indented block\n",
        "\n",
        "\n",
        "\n",
        "> Indented block\n",
        "\n"
      ]
    },
    {
      "cell_type": "code",
      "metadata": {
        "colab": {
          "base_uri": "https://localhost:8080/"
        },
        "id": "wX8r6mqsglfK",
        "outputId": "cf68ee21-c3f4-41ce-c72a-de3d48b3cf8f"
      },
      "source": [
        "def insdel(x,y,p):\n",
        "  for i in range(len(x)+1):\n",
        "    for j in range(len(y)+1):\n",
        "      if(i ==0 or j==0):\n",
        "        p[i][j]=0\n",
        "      elif(x[i-1]==y[j-1]):\n",
        "        p[i][j]=1+p[i-1][j-1]\n",
        "      else:\n",
        "        p[i][j]=max(p[i-1][j],p[i][j-1])\n",
        "  return p[len(x)][len(y)]\n",
        "x=\"geeksforgeeks\"\n",
        "y=\"geeks\"\n",
        "p=[]\n",
        "for i in range(len(x)+1):\n",
        "  o=[]\n",
        "  for j in range(len(y)+1):\n",
        "    o.append(0)\n",
        "  p.append(o)\n",
        "t=insdel(x,y,p)\n",
        "print(\"number of insertions:\\tf{%d}\",len(y)-t)\n",
        "print(\"number of deletions:\\tf{%d}\",len(x)-t)"
      ],
      "execution_count": 4,
      "outputs": [
        {
          "output_type": "stream",
          "text": [
            "number of insertions:\tf{%d} 0\n",
            "number of deletions:\tf{%d} 8\n"
          ],
          "name": "stdout"
        }
      ]
    }
  ]
}